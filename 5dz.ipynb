{
 "cells": [
  {
   "cell_type": "code",
   "execution_count": 5,
   "metadata": {},
   "outputs": [
    {
     "data": {
      "text/plain": [
       "array([[-0.85654102],\n",
       "       [ 1.1713082 ],\n",
       "       [ 1.40900222],\n",
       "       [-1.29957871],\n",
       "       [ 0.45417738],\n",
       "       [ 1.60627894],\n",
       "       [-5.0292674 ],\n",
       "       [ 4.88580247],\n",
       "       [-4.3287037 ],\n",
       "       [-0.83564815],\n",
       "       [ 1.43663194],\n",
       "       [ 0.02777778],\n",
       "       [ 0.75      ],\n",
       "       [-0.16666667]])"
      ]
     },
     "execution_count": 5,
     "metadata": {},
     "output_type": "execute_result"
    }
   ],
   "source": [
    "import numpy as np\n",
    "import numpy.random as r \n",
    "    \n",
    "    \n",
    "def Matrix(n):\n",
    "    b = r.randint(11, size = n)\n",
    "    A = np.diag(r.randint(11,size= n))\n",
    "    B = np.diag(r.randint(11,size= n-1),1)\n",
    "    C = np.diag(r.randint(11,size= n-1),-1)\n",
    "    return(np.linalg.solve(A+B+C, b))\n",
    "\n",
    "    \n",
    "Matrix(14).reshape(14,1) "
   ]
  }
 ],
 "metadata": {
  "kernelspec": {
   "display_name": "Python 3",
   "language": "python",
   "name": "python3"
  },
  "language_info": {
   "codemirror_mode": {
    "name": "ipython",
    "version": 3
   },
   "file_extension": ".py",
   "mimetype": "text/x-python",
   "name": "python",
   "nbconvert_exporter": "python",
   "pygments_lexer": "ipython3",
   "version": "3.6.5"
  }
 },
 "nbformat": 4,
 "nbformat_minor": 2
}
