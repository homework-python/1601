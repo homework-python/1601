{
 "cells": [
  {
   "cell_type": "code",
   "execution_count": 9,
   "metadata": {},
   "outputs": [
    {
     "name": "stdout",
     "output_type": "stream",
     "text": [
      "233168\n"
     ]
    }
   ],
   "source": [
    "#Найти сумму положительных целых чисел, не превышающих N=1000, которые делятся на 3 и/или на 5. \n",
    "def Sum(N):    \n",
    "    mas = []\n",
    "    for i in range(N):\n",
    "        if i % 3 == 0 or i % 5 == 0:\n",
    "            mas.append(i)\n",
    "    print(sum(mas))\n",
    "    \n",
    "\n",
    "Sum(1000)"
   ]
  }
 ],
 "metadata": {
  "kernelspec": {
   "display_name": "Python 3",
   "language": "python",
   "name": "python3"
  },
  "language_info": {
   "codemirror_mode": {
    "name": "ipython",
    "version": 3
   },
   "file_extension": ".py",
   "mimetype": "text/x-python",
   "name": "python",
   "nbconvert_exporter": "python",
   "pygments_lexer": "ipython3",
   "version": "3.6.5"
  }
 },
 "nbformat": 4,
 "nbformat_minor": 2
}
