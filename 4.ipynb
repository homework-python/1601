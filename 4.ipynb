{
 "cells": [
  {
   "cell_type": "code",
   "execution_count": null,
   "metadata": {},
   "outputs": [],
   "source": [
    "import matplotlib.pyplot as plt\n",
    "import numpy as np\n",
    "from functools import reduce\n",
    "\n",
    "\n",
    "def Lagrange(x, y, t):\n",
    "        summary = 0\n",
    "        for j in range(len(y)):\n",
    "            l = [((t-x[i]) / (x[j]-x[i])) for i in range(len(x)) if i != j]\n",
    "            summary += (y[j]*(reduce(lambda x, y: x*y, np.asarray(l))))\n",
    "        return summary\n",
    "\n",
    "    \n",
    "\n",
    "def Interpolation(n, count):    \n",
    "    a = np.arange(-n,n,0.01)  \n",
    "    b = 1/(1+a**2)\n",
    "    x = np.linspace(-n, n, count)\n",
    "    y = (1/(1 + x**2))\n",
    "    xnew = np.linspace(np.min(x), np.max(x), 100)\n",
    "    ynew = [Lagrange(x, y, i) for i in xnew]\n",
    "    plt.plot(a,b, xnew, ynew)\n",
    "    plt.grid()\n",
    "    plt.show()    \n",
    "    \n",
    "    \n",
    "    \n",
    "Interpolation(3,30)"
   ]
  }
 ],
 "metadata": {
  "kernelspec": {
   "display_name": "Python 3",
   "language": "python",
   "name": "python3"
  },
  "language_info": {
   "codemirror_mode": {
    "name": "ipython",
    "version": 3
   },
   "file_extension": ".py",
   "mimetype": "text/x-python",
   "name": "python",
   "nbconvert_exporter": "python",
   "pygments_lexer": "ipython3",
   "version": "3.6.5"
  }
 },
 "nbformat": 4,
 "nbformat_minor": 2
}
