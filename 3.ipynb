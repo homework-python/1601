{
 "cells": [
  {
   "cell_type": "code",
   "execution_count": 1,
   "metadata": {},
   "outputs": [
    {
     "name": "stdout",
     "output_type": "stream",
     "text": [
      "{5: ['Василий', 'Анна', 'Ярослав'], 4: ['Петр', 'Сергей'], 3: ['Мария'], 2: ['Иван']}\n"
     ]
    }
   ],
   "source": [
    "D = {\"Василий\":5, \"Анна\":5, \"Петр\":4, \"Сергей\":4, \"Мария\":3, \"Иван\":2, \"Ярослав\":5}\n",
    "new_D = {}\n",
    "\n",
    "\n",
    "for key in D:\n",
    "    if D[key] in new_D:\n",
    "        new_D[D[key]].extend([key])\n",
    "    else:\n",
    "        new_D.update({D[key]:[key]})\n",
    "        \n",
    "print(new_D)"
   ]
  },
  {
   "cell_type": "code",
   "execution_count": 2,
   "metadata": {},
   "outputs": [
    {
     "name": "stdout",
     "output_type": "stream",
     "text": [
      "1999\n"
     ]
    }
   ],
   "source": [
    "def number(string):\n",
    "    dictionary = {'I':1, 'V':5, 'X':10, 'L':50, 'C':100, 'D':500, 'M':1000}\n",
    "    mas = list(string)\n",
    "    for i in range(len(mas)):\n",
    "        mas[i] = dictionary[mas[i]]   \n",
    "    it = 0\n",
    "    mas.append(0)\n",
    "    summary = 0 \n",
    "    while it != (len(mas)-1):\n",
    "        if mas[it] >= mas[it+1]:\n",
    "            summary += mas[it]\n",
    "            it += 1\n",
    "        else:\n",
    "            summary += (mas[it+1]-mas[it])\n",
    "            it += 2\n",
    "    return(summary)\n",
    "\n",
    "print(number('MCMXCIX'))"
   ]
  },
  {
   "cell_type": "code",
   "execution_count": null,
   "metadata": {},
   "outputs": [],
   "source": []
  }
 ],
 "metadata": {
  "kernelspec": {
   "display_name": "Python 3",
   "language": "python",
   "name": "python3"
  },
  "language_info": {
   "codemirror_mode": {
    "name": "ipython",
    "version": 3
   },
   "file_extension": ".py",
   "mimetype": "text/x-python",
   "name": "python",
   "nbconvert_exporter": "python",
   "pygments_lexer": "ipython3",
   "version": "3.6.5"
  }
 },
 "nbformat": 4,
 "nbformat_minor": 2
}
